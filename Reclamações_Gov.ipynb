{
  "nbformat": 4,
  "nbformat_minor": 0,
  "metadata": {
    "colab": {
      "name": "Reclamações.Gov.ipynb",
      "provenance": [],
      "mount_file_id": "184O-s58UFjeGIzckgfwo0iHp-vE_OyqF",
      "authorship_tag": "ABX9TyOlkLUo0bquLjWqAZqO9C0r",
      "include_colab_link": true
    },
    "kernelspec": {
      "name": "python3",
      "display_name": "Python 3"
    }
  },
  "cells": [
    {
      "cell_type": "markdown",
      "metadata": {
        "id": "view-in-github",
        "colab_type": "text"
      },
      "source": [
        "<a href=\"https://colab.research.google.com/github/DAVIDKSOUSA/DATA-SCIENCE-NA-PR-TICA/blob/master/Reclama%C3%A7%C3%B5es_Gov.ipynb\" target=\"_parent\"><img src=\"https://colab.research.google.com/assets/colab-badge.svg\" alt=\"Open In Colab\"/></a>"
      ]
    },
    {
      "cell_type": "markdown",
      "metadata": {
        "id": "GBAkol3ux9YU",
        "colab_type": "text"
      },
      "source": [
        "#Análise exploatória \n",
        "\n",
        "Este DataFrame faz uma análise dos dados extraídos do site xxx,...."
      ]
    },
    {
      "cell_type": "code",
      "metadata": {
        "id": "boggUjfcyAih",
        "colab_type": "code",
        "colab": {
          "base_uri": "https://localhost:8080/",
          "height": 88
        },
        "outputId": "668315b6-02e7-4cac-be6e-655b7b74d77d"
      },
      "source": [
        "#Importando as bibliotecas.\n",
        "!pip install pandas -q  #atualização pandas\n",
        "import numpy as np\n",
        "import pandas as pd\n",
        "import matplotlib.pyplot as plt\n",
        "import seaborn as sns\n",
        "%pylab inline\n",
        "\n"
      ],
      "execution_count": 1,
      "outputs": [
        {
          "output_type": "stream",
          "text": [
            "Populating the interactive namespace from numpy and matplotlib\n"
          ],
          "name": "stdout"
        },
        {
          "output_type": "stream",
          "text": [
            "/usr/local/lib/python3.6/dist-packages/statsmodels/tools/_testing.py:19: FutureWarning: pandas.util.testing is deprecated. Use the functions in the public API at pandas.testing instead.\n",
            "  import pandas.util.testing as tm\n"
          ],
          "name": "stderr"
        }
      ]
    },
    {
      "cell_type": "code",
      "metadata": {
        "id": "4-axnauiyOoY",
        "colab_type": "code",
        "colab": {}
      },
      "source": [
        "#Verificação da versão do pandas que foi instalada."
      ],
      "execution_count": 0,
      "outputs": []
    },
    {
      "cell_type": "code",
      "metadata": {
        "id": "eUkR1rlZyywq",
        "colab_type": "code",
        "colab": {
          "base_uri": "https://localhost:8080/",
          "height": 34
        },
        "outputId": "64922667-cb28-4d9d-8ab5-0db168e9f896"
      },
      "source": [
        "pd.__version__"
      ],
      "execution_count": 3,
      "outputs": [
        {
          "output_type": "execute_result",
          "data": {
            "text/plain": [
              "'1.0.3'"
            ]
          },
          "metadata": {
            "tags": []
          },
          "execution_count": 3
        }
      ]
    },
    {
      "cell_type": "code",
      "metadata": {
        "id": "P7MYkxn_6WzZ",
        "colab_type": "code",
        "colab": {
          "base_uri": "https://localhost:8080/",
          "height": 923
        },
        "outputId": "2ee1245f-a7ce-4240-a481-673754a481ba"
      },
      "source": [
        "df = pd.read_csv(\"/content/drive/My Drive/DataFrames/2_semestre_2016.csv\", sep=\";\", encoding=\"latin1\")\n",
        "df.head(10)"
      ],
      "execution_count": 4,
      "outputs": [
        {
          "output_type": "execute_result",
          "data": {
            "text/html": [
              "<div>\n",
              "<style scoped>\n",
              "    .dataframe tbody tr th:only-of-type {\n",
              "        vertical-align: middle;\n",
              "    }\n",
              "\n",
              "    .dataframe tbody tr th {\n",
              "        vertical-align: top;\n",
              "    }\n",
              "\n",
              "    .dataframe thead th {\n",
              "        text-align: right;\n",
              "    }\n",
              "</style>\n",
              "<table border=\"1\" class=\"dataframe\">\n",
              "  <thead>\n",
              "    <tr style=\"text-align: right;\">\n",
              "      <th></th>\n",
              "      <th>Região</th>\n",
              "      <th>UF</th>\n",
              "      <th>Cidade</th>\n",
              "      <th>Sexo</th>\n",
              "      <th>Faixa Etária</th>\n",
              "      <th>Data Finalização</th>\n",
              "      <th>Tempo Resposta</th>\n",
              "      <th>Nome Fantasia</th>\n",
              "      <th>Segmento de Mercado</th>\n",
              "      <th>Área</th>\n",
              "      <th>Assunto</th>\n",
              "      <th>Grupo Problema</th>\n",
              "      <th>Problema</th>\n",
              "      <th>Como Comprou Contratou</th>\n",
              "      <th>Procurou Empresa</th>\n",
              "      <th>Respondida</th>\n",
              "      <th>Situação</th>\n",
              "      <th>Avaliação Reclamação</th>\n",
              "      <th>Nota do Consumidor</th>\n",
              "      <th>Total</th>\n",
              "    </tr>\n",
              "  </thead>\n",
              "  <tbody>\n",
              "    <tr>\n",
              "      <th>0</th>\n",
              "      <td>NE</td>\n",
              "      <td>PI</td>\n",
              "      <td>São Raimundo Nonato</td>\n",
              "      <td>M</td>\n",
              "      <td>entre 21 a 30 anos</td>\n",
              "      <td>30/07/2016</td>\n",
              "      <td>0.0</td>\n",
              "      <td>Tim</td>\n",
              "      <td>Operadoras de Telecomunicações (Telefonia, Int...</td>\n",
              "      <td>Telecomunicações</td>\n",
              "      <td>Telefonia Móvel Pós-paga</td>\n",
              "      <td>Cobrança / Contestação</td>\n",
              "      <td>Cobrança após cancelamento do serviço</td>\n",
              "      <td>Loja física</td>\n",
              "      <td>S</td>\n",
              "      <td>S</td>\n",
              "      <td>Finalizada avaliada</td>\n",
              "      <td>Resolvida</td>\n",
              "      <td>4.0</td>\n",
              "      <td>1</td>\n",
              "    </tr>\n",
              "    <tr>\n",
              "      <th>1</th>\n",
              "      <td>CO</td>\n",
              "      <td>GO</td>\n",
              "      <td>Aparecida de Goiânia</td>\n",
              "      <td>F</td>\n",
              "      <td>entre 21 a 30 anos</td>\n",
              "      <td>30/07/2016</td>\n",
              "      <td>0.0</td>\n",
              "      <td>SKY</td>\n",
              "      <td>Operadoras de Telecomunicações (Telefonia, Int...</td>\n",
              "      <td>Telecomunicações</td>\n",
              "      <td>TV por Assinatura</td>\n",
              "      <td>Atendimento / SAC</td>\n",
              "      <td>Má qualidade no atendimento presencial ou outr...</td>\n",
              "      <td>Domicílio</td>\n",
              "      <td>S</td>\n",
              "      <td>S</td>\n",
              "      <td>Finalizada avaliada</td>\n",
              "      <td>Não Resolvida</td>\n",
              "      <td>5.0</td>\n",
              "      <td>1</td>\n",
              "    </tr>\n",
              "    <tr>\n",
              "      <th>2</th>\n",
              "      <td>SE</td>\n",
              "      <td>SP</td>\n",
              "      <td>Mogi das Cruzes</td>\n",
              "      <td>M</td>\n",
              "      <td>entre 41 a 50 anos</td>\n",
              "      <td>31/07/2016</td>\n",
              "      <td>0.0</td>\n",
              "      <td>Tim</td>\n",
              "      <td>Operadoras de Telecomunicações (Telefonia, Int...</td>\n",
              "      <td>Telecomunicações</td>\n",
              "      <td>Telefonia Móvel Pré-paga</td>\n",
              "      <td>Cobrança / Contestação</td>\n",
              "      <td>Cobrança em duplicidade / Cobrança referente a...</td>\n",
              "      <td>Loja física</td>\n",
              "      <td>S</td>\n",
              "      <td>S</td>\n",
              "      <td>Finalizada avaliada</td>\n",
              "      <td>Resolvida</td>\n",
              "      <td>5.0</td>\n",
              "      <td>1</td>\n",
              "    </tr>\n",
              "    <tr>\n",
              "      <th>3</th>\n",
              "      <td>SE</td>\n",
              "      <td>SP</td>\n",
              "      <td>Mogi das Cruzes</td>\n",
              "      <td>M</td>\n",
              "      <td>entre 41 a 50 anos</td>\n",
              "      <td>30/07/2016</td>\n",
              "      <td>0.0</td>\n",
              "      <td>Tim</td>\n",
              "      <td>Operadoras de Telecomunicações (Telefonia, Int...</td>\n",
              "      <td>Telecomunicações</td>\n",
              "      <td>Pacote de Serviços ( Combo )</td>\n",
              "      <td>Cobrança / Contestação</td>\n",
              "      <td>Cobrança por serviço/produto não contratado / ...</td>\n",
              "      <td>Loja física</td>\n",
              "      <td>S</td>\n",
              "      <td>S</td>\n",
              "      <td>Finalizada avaliada</td>\n",
              "      <td>Resolvida</td>\n",
              "      <td>5.0</td>\n",
              "      <td>1</td>\n",
              "    </tr>\n",
              "    <tr>\n",
              "      <th>4</th>\n",
              "      <td>SE</td>\n",
              "      <td>MG</td>\n",
              "      <td>Oliveira</td>\n",
              "      <td>F</td>\n",
              "      <td>até 20 anos</td>\n",
              "      <td>30/07/2016</td>\n",
              "      <td>1.0</td>\n",
              "      <td>Tim</td>\n",
              "      <td>Operadoras de Telecomunicações (Telefonia, Int...</td>\n",
              "      <td>Produtos de Telefonia e Informática</td>\n",
              "      <td>Demais aparelhos de comunicação</td>\n",
              "      <td>Cobrança / Contestação</td>\n",
              "      <td>Dificuldade na devolução de valores pagos / re...</td>\n",
              "      <td>Não comprei / contratei</td>\n",
              "      <td>N</td>\n",
              "      <td>S</td>\n",
              "      <td>Finalizada avaliada</td>\n",
              "      <td>Resolvida</td>\n",
              "      <td>3.0</td>\n",
              "      <td>1</td>\n",
              "    </tr>\n",
              "    <tr>\n",
              "      <th>5</th>\n",
              "      <td>SE</td>\n",
              "      <td>SP</td>\n",
              "      <td>São Paulo</td>\n",
              "      <td>M</td>\n",
              "      <td>entre 41 a 50 anos</td>\n",
              "      <td>30/07/2016</td>\n",
              "      <td>1.0</td>\n",
              "      <td>Tim</td>\n",
              "      <td>Operadoras de Telecomunicações (Telefonia, Int...</td>\n",
              "      <td>Produtos de Telefonia e Informática</td>\n",
              "      <td>Aparelho celular</td>\n",
              "      <td>Cobrança / Contestação</td>\n",
              "      <td>Cobrança por serviço/produto não contratado / ...</td>\n",
              "      <td>Não comprei / contratei</td>\n",
              "      <td>S</td>\n",
              "      <td>S</td>\n",
              "      <td>Finalizada avaliada</td>\n",
              "      <td>Não Resolvida</td>\n",
              "      <td>1.0</td>\n",
              "      <td>1</td>\n",
              "    </tr>\n",
              "    <tr>\n",
              "      <th>6</th>\n",
              "      <td>N</td>\n",
              "      <td>AM</td>\n",
              "      <td>Manaus</td>\n",
              "      <td>M</td>\n",
              "      <td>mais de 70 anos</td>\n",
              "      <td>29/07/2016</td>\n",
              "      <td>0.0</td>\n",
              "      <td>SKY</td>\n",
              "      <td>Operadoras de Telecomunicações (Telefonia, Int...</td>\n",
              "      <td>Telecomunicações</td>\n",
              "      <td>TV por Assinatura</td>\n",
              "      <td>Vício de Qualidade</td>\n",
              "      <td>Funcionamento inadequado do serviço (má qualid...</td>\n",
              "      <td>Não comprei / contratei</td>\n",
              "      <td>S</td>\n",
              "      <td>S</td>\n",
              "      <td>Finalizada avaliada</td>\n",
              "      <td>Resolvida</td>\n",
              "      <td>5.0</td>\n",
              "      <td>1</td>\n",
              "    </tr>\n",
              "    <tr>\n",
              "      <th>7</th>\n",
              "      <td>NE</td>\n",
              "      <td>SE</td>\n",
              "      <td>Estância</td>\n",
              "      <td>M</td>\n",
              "      <td>até 20 anos</td>\n",
              "      <td>29/07/2016</td>\n",
              "      <td>0.0</td>\n",
              "      <td>Serasa Experian</td>\n",
              "      <td>Bancos de Dados e Cadastros de Consumidores</td>\n",
              "      <td>Serviços Financeiros</td>\n",
              "      <td>Banco de Dados e Cadastros de Consumidores (SP...</td>\n",
              "      <td>Informação</td>\n",
              "      <td>Dados pessoais ou financeiros consultados, col...</td>\n",
              "      <td>Internet</td>\n",
              "      <td>N</td>\n",
              "      <td>S</td>\n",
              "      <td>Finalizada avaliada</td>\n",
              "      <td>Resolvida</td>\n",
              "      <td>5.0</td>\n",
              "      <td>1</td>\n",
              "    </tr>\n",
              "    <tr>\n",
              "      <th>8</th>\n",
              "      <td>SE</td>\n",
              "      <td>RJ</td>\n",
              "      <td>Magé</td>\n",
              "      <td>M</td>\n",
              "      <td>entre 31 a 40 anos</td>\n",
              "      <td>29/07/2016</td>\n",
              "      <td>0.0</td>\n",
              "      <td>SKY</td>\n",
              "      <td>Operadoras de Telecomunicações (Telefonia, Int...</td>\n",
              "      <td>Telecomunicações</td>\n",
              "      <td>TV por Assinatura</td>\n",
              "      <td>Cobrança / Contestação</td>\n",
              "      <td>Dificuldade na Renegociação / parcelamento de ...</td>\n",
              "      <td>Não comprei / contratei</td>\n",
              "      <td>S</td>\n",
              "      <td>S</td>\n",
              "      <td>Finalizada avaliada</td>\n",
              "      <td>Resolvida</td>\n",
              "      <td>5.0</td>\n",
              "      <td>1</td>\n",
              "    </tr>\n",
              "    <tr>\n",
              "      <th>9</th>\n",
              "      <td>S</td>\n",
              "      <td>RS</td>\n",
              "      <td>Porto Alegre</td>\n",
              "      <td>M</td>\n",
              "      <td>entre 51 a 60 anos</td>\n",
              "      <td>29/07/2016</td>\n",
              "      <td>0.0</td>\n",
              "      <td>Azul Linhas Aéreas</td>\n",
              "      <td>Transporte Aéreo</td>\n",
              "      <td>Transportes</td>\n",
              "      <td>Aéreo</td>\n",
              "      <td>Cobrança / Contestação</td>\n",
              "      <td>Imposição de multa indevida / abusiva</td>\n",
              "      <td>Internet</td>\n",
              "      <td>S</td>\n",
              "      <td>S</td>\n",
              "      <td>Finalizada avaliada</td>\n",
              "      <td>Não Resolvida</td>\n",
              "      <td>1.0</td>\n",
              "      <td>1</td>\n",
              "    </tr>\n",
              "  </tbody>\n",
              "</table>\n",
              "</div>"
            ],
            "text/plain": [
              "  Região  UF  ... Nota do Consumidor Total\n",
              "0     NE  PI  ...                4.0     1\n",
              "1     CO  GO  ...                5.0     1\n",
              "2     SE  SP  ...                5.0     1\n",
              "3     SE  SP  ...                5.0     1\n",
              "4     SE  MG  ...                3.0     1\n",
              "5     SE  SP  ...                1.0     1\n",
              "6     N   AM  ...                5.0     1\n",
              "7     NE  SE  ...                5.0     1\n",
              "8     SE  RJ  ...                5.0     1\n",
              "9     S   RS  ...                1.0     1\n",
              "\n",
              "[10 rows x 20 columns]"
            ]
          },
          "metadata": {
            "tags": []
          },
          "execution_count": 4
        }
      ]
    },
    {
      "cell_type": "code",
      "metadata": {
        "id": "TSHZ8UpJ75_w",
        "colab_type": "code",
        "colab": {
          "base_uri": "https://localhost:8080/",
          "height": 34
        },
        "outputId": "1d30b12e-19d0-469a-f8ff-b412f4779189"
      },
      "source": [
        "type(df)"
      ],
      "execution_count": 5,
      "outputs": [
        {
          "output_type": "execute_result",
          "data": {
            "text/plain": [
              "pandas.core.frame.DataFrame"
            ]
          },
          "metadata": {
            "tags": []
          },
          "execution_count": 5
        }
      ]
    },
    {
      "cell_type": "code",
      "metadata": {
        "id": "ztZzW4xr8tks",
        "colab_type": "code",
        "colab": {
          "base_uri": "https://localhost:8080/",
          "height": 297
        },
        "outputId": "ec4a7557-784f-49ec-c303-4dbd82b7a4ef"
      },
      "source": [
        "df.describe()"
      ],
      "execution_count": 6,
      "outputs": [
        {
          "output_type": "execute_result",
          "data": {
            "text/html": [
              "<div>\n",
              "<style scoped>\n",
              "    .dataframe tbody tr th:only-of-type {\n",
              "        vertical-align: middle;\n",
              "    }\n",
              "\n",
              "    .dataframe tbody tr th {\n",
              "        vertical-align: top;\n",
              "    }\n",
              "\n",
              "    .dataframe thead th {\n",
              "        text-align: right;\n",
              "    }\n",
              "</style>\n",
              "<table border=\"1\" class=\"dataframe\">\n",
              "  <thead>\n",
              "    <tr style=\"text-align: right;\">\n",
              "      <th></th>\n",
              "      <th>Tempo Resposta</th>\n",
              "      <th>Nota do Consumidor</th>\n",
              "      <th>Total</th>\n",
              "    </tr>\n",
              "  </thead>\n",
              "  <tbody>\n",
              "    <tr>\n",
              "      <th>count</th>\n",
              "      <td>161993.000000</td>\n",
              "      <td>95118.000000</td>\n",
              "      <td>162584.0</td>\n",
              "    </tr>\n",
              "    <tr>\n",
              "      <th>mean</th>\n",
              "      <td>6.440247</td>\n",
              "      <td>3.320108</td>\n",
              "      <td>1.0</td>\n",
              "    </tr>\n",
              "    <tr>\n",
              "      <th>std</th>\n",
              "      <td>3.378037</td>\n",
              "      <td>1.696041</td>\n",
              "      <td>0.0</td>\n",
              "    </tr>\n",
              "    <tr>\n",
              "      <th>min</th>\n",
              "      <td>0.000000</td>\n",
              "      <td>1.000000</td>\n",
              "      <td>1.0</td>\n",
              "    </tr>\n",
              "    <tr>\n",
              "      <th>25%</th>\n",
              "      <td>3.000000</td>\n",
              "      <td>1.000000</td>\n",
              "      <td>1.0</td>\n",
              "    </tr>\n",
              "    <tr>\n",
              "      <th>50%</th>\n",
              "      <td>8.000000</td>\n",
              "      <td>4.000000</td>\n",
              "      <td>1.0</td>\n",
              "    </tr>\n",
              "    <tr>\n",
              "      <th>75%</th>\n",
              "      <td>9.000000</td>\n",
              "      <td>5.000000</td>\n",
              "      <td>1.0</td>\n",
              "    </tr>\n",
              "    <tr>\n",
              "      <th>max</th>\n",
              "      <td>12.000000</td>\n",
              "      <td>5.000000</td>\n",
              "      <td>1.0</td>\n",
              "    </tr>\n",
              "  </tbody>\n",
              "</table>\n",
              "</div>"
            ],
            "text/plain": [
              "       Tempo Resposta  Nota do Consumidor     Total\n",
              "count   161993.000000        95118.000000  162584.0\n",
              "mean         6.440247            3.320108       1.0\n",
              "std          3.378037            1.696041       0.0\n",
              "min          0.000000            1.000000       1.0\n",
              "25%          3.000000            1.000000       1.0\n",
              "50%          8.000000            4.000000       1.0\n",
              "75%          9.000000            5.000000       1.0\n",
              "max         12.000000            5.000000       1.0"
            ]
          },
          "metadata": {
            "tags": []
          },
          "execution_count": 6
        }
      ]
    },
    {
      "cell_type": "code",
      "metadata": {
        "id": "CviWtQeW9xs-",
        "colab_type": "code",
        "colab": {}
      },
      "source": [
        ""
      ],
      "execution_count": 0,
      "outputs": []
    },
    {
      "cell_type": "markdown",
      "metadata": {
        "id": "Q-y3v_Tl-FKO",
        "colab_type": "text"
      },
      "source": [
        "##Número de Reclamações x Estado"
      ]
    },
    {
      "cell_type": "code",
      "metadata": {
        "id": "6kKHhOrJ-I5g",
        "colab_type": "code",
        "colab": {
          "base_uri": "https://localhost:8080/",
          "height": 790
        },
        "outputId": "3c8d7a07-a66d-4878-d8ce-9769e1ca8ae4"
      },
      "source": [
        "#Encontrar o número de reclamaçõesxEstado \n",
        "fig, ax = plt.subplots(figsize=(8,4))\n",
        "sns.countplot(df[\"UF\"], ax=ax)\n",
        "ax.set_title(\"Reclamações x Estado\")\n",
        "ax.set_ylabel(\"Reclamações\")\n",
        "plt.tight_layout();\n",
        "\n",
        "#Gráfico acima pode ser feito de outra forma\n",
        "df.groupby(\"UF\")[\"UF\"].count()\n",
        "\n"
      ],
      "execution_count": 7,
      "outputs": [
        {
          "output_type": "execute_result",
          "data": {
            "text/plain": [
              "UF\n",
              "AC      554\n",
              "AL      647\n",
              "AM     1026\n",
              "AP      173\n",
              "BA     8269\n",
              "CE     5362\n",
              "DF     7057\n",
              "ES     3612\n",
              "GO     4355\n",
              "MA     1572\n",
              "MG    14356\n",
              "MS     1548\n",
              "MT     4108\n",
              "PA     1721\n",
              "PB     1586\n",
              "PE     4192\n",
              "PI      908\n",
              "PR    15107\n",
              "RJ    16895\n",
              "RN     1238\n",
              "RO      565\n",
              "RR      220\n",
              "RS    14615\n",
              "SC     4898\n",
              "SE      750\n",
              "SP    44905\n",
              "TO     2345\n",
              "Name: UF, dtype: int64"
            ]
          },
          "metadata": {
            "tags": []
          },
          "execution_count": 7
        },
        {
          "output_type": "display_data",
          "data": {
            "image/png": "[encoded data removed]",
            "text/plain": [
              "<Figure size 576x288 with 1 Axes>"
            ]
          },
          "metadata": {
            "tags": []
          }
        }
      ]
    },
    {
      "cell_type": "markdown",
      "metadata": {
        "id": "jLq5yhR7CKdt",
        "colab_type": "text"
      },
      "source": [
        "##Número de Reclamações por Sexo"
      ]
    },
    {
      "cell_type": "code",
      "metadata": {
        "id": "0jqrCkhPCP7Q",
        "colab_type": "code",
        "colab": {
          "base_uri": "https://localhost:8080/",
          "height": 68
        },
        "outputId": "71512ada-81ef-468c-dce9-e47ef45fa739"
      },
      "source": [
        "#Número de reclamações x Sexo.\n",
        "df[\"Sexo\"].value_counts()\n",
        "\n",
        "\n"
      ],
      "execution_count": 8,
      "outputs": [
        {
          "output_type": "execute_result",
          "data": {
            "text/plain": [
              "M    95462\n",
              "F    67122\n",
              "Name: Sexo, dtype: int64"
            ]
          },
          "metadata": {
            "tags": []
          },
          "execution_count": 8
        }
      ]
    },
    {
      "cell_type": "code",
      "metadata": {
        "id": "btkk4rTXC1za",
        "colab_type": "code",
        "colab": {
          "base_uri": "https://localhost:8080/",
          "height": 293
        },
        "outputId": "536063c8-5216-4bbf-c760-cbd7b8824f70"
      },
      "source": [
        "#Gráfico.\n",
        "fig, ax = plt.subplots(figsize=(8,4))\n",
        "sns.set(context=\"notebook\", style=\"darkgrid\", color_codes=True)\n",
        "sns.countplot(df[\"Sexo\"])\n",
        "ax.set_title(\"Reclamações x Sexo\")\n",
        "ax.set_ylabel(\"Reclamações\")\n",
        "plt.tight_layout();\n",
        "\n",
        "#Outra forma de plotar o gráfico.\n",
        "#sexo = df[\"Sexo\"].unique()\n",
        "#count = df[\"Sexo\"].value_counts()\n",
        "#sns.barplot(x=sexo , y=count)\n",
        "#plt.tight_layout();\n",
        "\n"
      ],
      "execution_count": 9,
      "outputs": [
        {
          "output_type": "display_data",
          "data": {
            "image/png": "[encoded data removed]",
            "text/plain": [
              "<Figure size 576x288 with 1 Axes>"
            ]
          },
          "metadata": {
            "tags": []
          }
        }
      ]
    },
    {
      "cell_type": "code",
      "metadata": {
        "id": "pwf22iX7E9aX",
        "colab_type": "code",
        "colab": {}
      },
      "source": [
        ""
      ],
      "execution_count": 0,
      "outputs": []
    },
    {
      "cell_type": "markdown",
      "metadata": {
        "id": "Ps3MCyhRI4Y9",
        "colab_type": "text"
      },
      "source": [
        "##Faixa etária de consumidores por sexo."
      ]
    },
    {
      "cell_type": "code",
      "metadata": {
        "id": "yw7MCvMpHZbD",
        "colab_type": "code",
        "colab": {
          "base_uri": "https://localhost:8080/",
          "height": 289
        },
        "outputId": "ad1834e1-7682-4ff2-f4f4-318d07b209b0"
      },
      "source": [
        "df.groupby(\"Sexo\")[\"Faixa Etária\"].value_counts()"
      ],
      "execution_count": 10,
      "outputs": [
        {
          "output_type": "execute_result",
          "data": {
            "text/plain": [
              "Sexo  Faixa Etária      \n",
              "F     entre 21 a 30 anos    20470\n",
              "      entre 31 a 40 anos    19617\n",
              "      entre 41 a 50 anos    10626\n",
              "      entre 51 a 60 anos     8306\n",
              "      entre 61 a 70 anos     4242\n",
              "      até 20 anos            1958\n",
              "      mais de 70 anos        1903\n",
              "M     entre 21 a 30 anos    33597\n",
              "      entre 31 a 40 anos    31049\n",
              "      entre 41 a 50 anos    13501\n",
              "      entre 51 a 60 anos     8171\n",
              "      entre 61 a 70 anos     4260\n",
              "      até 20 anos            3170\n",
              "      mais de 70 anos        1714\n",
              "Name: Faixa Etária, dtype: int64"
            ]
          },
          "metadata": {
            "tags": []
          },
          "execution_count": 10
        }
      ]
    },
    {
      "cell_type": "markdown",
      "metadata": {
        "id": "n9XMg9RTJ2Q7",
        "colab_type": "text"
      },
      "source": [
        "##Consumidores mais jovens contrataram o serviço pela intenet ?"
      ]
    },
    {
      "cell_type": "code",
      "metadata": {
        "id": "GZaQ7tLmJ7NC",
        "colab_type": "code",
        "colab": {
          "base_uri": "https://localhost:8080/",
          "height": 68
        },
        "outputId": "e388098a-222d-45b0-8467-156e2fa1f7ca"
      },
      "source": [
        "#Averiguação das formas de contratação\n",
        "df[\"Como Comprou Contratou\"].unique()"
      ],
      "execution_count": 11,
      "outputs": [
        {
          "output_type": "execute_result",
          "data": {
            "text/plain": [
              "array(['Loja física', 'Domicílio', 'Não comprei / contratei', 'Internet',\n",
              "       'Telefone', 'SMS / Mensagem de texto', 'Stand, feiras e eventos',\n",
              "       'Catálogo', 'Ganhei de presente'], dtype=object)"
            ]
          },
          "metadata": {
            "tags": []
          },
          "execution_count": 11
        }
      ]
    },
    {
      "cell_type": "code",
      "metadata": {
        "id": "XKBQxdOjKZPC",
        "colab_type": "code",
        "colab": {
          "base_uri": "https://localhost:8080/",
          "height": 170
        },
        "outputId": "f8007f06-6dbe-4007-c85b-32ab348e5531"
      },
      "source": [
        "#Selecionando apenas quem comprou ou contratou pela intenet.\n",
        "df2 = df[df[\"Como Comprou Contratou\"] == \"Internet\"]\n",
        "#Agrupando quem comprou ou contratou pela intenet com a respectiva Fáixa Etária.\n",
        "df2.groupby(\"Faixa Etária\")[\"Como Comprou Contratou\"].value_counts()"
      ],
      "execution_count": 12,
      "outputs": [
        {
          "output_type": "execute_result",
          "data": {
            "text/plain": [
              "Faixa Etária        Como Comprou Contratou\n",
              "até 20 anos         Internet                   1729\n",
              "entre 21 a 30 anos  Internet                  17255\n",
              "entre 31 a 40 anos  Internet                  14514\n",
              "entre 41 a 50 anos  Internet                   4913\n",
              "entre 51 a 60 anos  Internet                   2481\n",
              "entre 61 a 70 anos  Internet                   1025\n",
              "mais de 70 anos     Internet                    297\n",
              "Name: Como Comprou Contratou, dtype: int64"
            ]
          },
          "metadata": {
            "tags": []
          },
          "execution_count": 12
        }
      ]
    },
    {
      "cell_type": "code",
      "metadata": {
        "id": "tejwFynHLdme",
        "colab_type": "code",
        "colab": {
          "base_uri": "https://localhost:8080/",
          "height": 249
        },
        "outputId": "0abfed9b-bea6-42e2-e8d1-d2247895ebb9"
      },
      "source": [
        "#Gráfico\n",
        "fig, (ax1, ax2) = plt.subplots(nrows=1, ncols=2,figsize=(28,7))\n",
        "     \n",
        "sns.countplot(df2[\"Faixa Etária\"], ax=ax1)\n",
        "df2.groupby(\"Faixa Etária\")[\"Como Comprou Contratou\"].value_counts().plot.barh(ax = ax2)\n",
        "ax1.set_title(\"Gráfico Vertical\")\n",
        "ax2.set_title(\"Gráfico Horizontal\")\n",
        "plt.tight_layout();"
      ],
      "execution_count": 13,
      "outputs": [
        {
          "output_type": "display_data",
          "data": {
            "image/png": "[encoded data removed]",
            "text/plain": [
              "<Figure size 2016x504 with 2 Axes>"
            ]
          },
          "metadata": {
            "tags": []
          }
        }
      ]
    },
    {
      "cell_type": "markdown",
      "metadata": {
        "id": "tGZj1dijR5qD",
        "colab_type": "text"
      },
      "source": [
        "##Estes consumidores procuram a empresa antes de registrar alguma reclamação ?"
      ]
    },
    {
      "cell_type": "code",
      "metadata": {
        "id": "5hyvZpSvUFuZ",
        "colab_type": "code",
        "colab": {}
      },
      "source": [
        "df3 = df[df[\"Faixa Etária\"] == \"entre 21 a 30 anos\"].count()"
      ],
      "execution_count": 0,
      "outputs": []
    },
    {
      "cell_type": "code",
      "metadata": {
        "id": "dS6dFaAjSBor",
        "colab_type": "code",
        "colab": {
          "base_uri": "https://localhost:8080/",
          "height": 293
        },
        "outputId": "2713342e-f459-49b0-fd6e-47ba66cbd58b"
      },
      "source": [
        "#Gráfico do Número de pessoas que procuraram a empresa.\n",
        "df3 = df[df[\"Faixa Etária\"] == \"entre 21 a 30 anos\"]\n",
        "\n",
        "fig, ax = plt.subplots(figsize=(8,4))\n",
        "df3[\"Procurou Empresa\"].value_counts().plot.barh()\n",
        "ax.set_title(\"Número de Pessoas que Procuraram a Empresa\")\n",
        "plt.tight_layout()"
      ],
      "execution_count": 24,
      "outputs": [
        {
          "output_type": "display_data",
          "data": {
            "image/png": "[encoded data removed]",
            "text/plain": [
              "<Figure size 576x288 with 1 Axes>"
            ]
          },
          "metadata": {
            "tags": []
          }
        }
      ]
    }
  ]
}