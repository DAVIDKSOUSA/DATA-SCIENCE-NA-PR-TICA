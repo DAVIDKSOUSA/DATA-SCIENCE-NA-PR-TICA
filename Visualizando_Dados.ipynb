{
  "nbformat": 4,
  "nbformat_minor": 0,
  "metadata": {
    "colab": {
      "name": "Visualizando Dados.ipynb",
      "provenance": [],
      "collapsed_sections": [],
      "include_colab_link": true
    },
    "kernelspec": {
      "name": "python3",
      "display_name": "Python 3"
    }
  },
  "cells": [
    {
      "cell_type": "markdown",
      "metadata": {
        "id": "view-in-github",
        "colab_type": "text"
      },
      "source": [
        "<a href=\"https://colab.research.google.com/github/DAVIDKSOUSA/DATA-SCIENCE-NA-PR-TICA/blob/master/Visualizando_Dados.ipynb\" target=\"_parent\"><img src=\"https://colab.research.google.com/assets/colab-badge.svg\" alt=\"Open In Colab\"/></a>"
      ]
    },
    {
      "cell_type": "markdown",
      "metadata": {
        "id": "CGlMMAsOYyZQ",
        "colab_type": "text"
      },
      "source": [
        "#Visualizando Dados"
      ]
    },
    {
      "cell_type": "markdown",
      "metadata": {
        "id": "xj4iK4GBY6rS",
        "colab_type": "text"
      },
      "source": [
        "######Conhecendo o Matplotlib"
      ]
    },
    {
      "cell_type": "code",
      "metadata": {
        "id": "BS6q8JNtZP5l",
        "colab_type": "code",
        "colab": {}
      },
      "source": [
        "import pandas as pd\n",
        "import matplotlib.pyplot as plt"
      ],
      "execution_count": 0,
      "outputs": []
    },
    {
      "cell_type": "markdown",
      "metadata": {
        "id": "oMDK1Jleaj-p",
        "colab_type": "text"
      },
      "source": [
        "#####Abordagem Stateful"
      ]
    },
    {
      "cell_type": "code",
      "metadata": {
        "id": "ANHnlnh1dCV4",
        "colab_type": "code",
        "colab": {}
      },
      "source": [
        "plt.plot([1,3,5])\n",
        "plt.title('TÍTULO')\n",
        "plt.xlabel('X')\n",
        "plt.ylabel('Y')\n",
        "plt.legend('LEGENDA');"
      ],
      "execution_count": 0,
      "outputs": []
    },
    {
      "cell_type": "markdown",
      "metadata": {
        "id": "hxSmvOMSdIaR",
        "colab_type": "text"
      },
      "source": [
        "#####Abordagem Statelles"
      ]
    },
    {
      "cell_type": "code",
      "metadata": {
        "id": "gPFxsynNfXq-",
        "colab_type": "code",
        "colab": {}
      },
      "source": [
        "fig, ax = plt.subplots();\n"
      ],
      "execution_count": 0,
      "outputs": []
    },
    {
      "cell_type": "code",
      "metadata": {
        "id": "RroqpLU0mOB0",
        "colab_type": "code",
        "colab": {}
      },
      "source": [
        "import matplotlib.pyplot as plt\n",
        "import numpy as np\n",
        "#Gerando valores demonstrativos\n",
        "x = np.arange(20)\n",
        "y = np.random.normal(size =20)\n",
        "\n",
        "#Plotar os valores\n",
        "fig, ax = plt.subplots()\n",
        "ax.plot(x, y)\n",
        "ax.set_title(\"Título\")\n",
        "ax.set_xlabel(\"X\")\n",
        "ax.set_ylabel(\"Y\");\n",
        "\n",
        "#fig.show ou # vamos utilizar tight_layout\n",
        "fig.tight_layout()"
      ],
      "execution_count": 0,
      "outputs": []
    },
    {
      "cell_type": "code",
      "metadata": {
        "id": "0rCvSE_NsBOb",
        "colab_type": "code",
        "outputId": "6a236413-77f2-4bfa-f9f0-6da23273b29a",
        "colab": {
          "base_uri": "https://localhost:8080/",
          "height": 232
        }
      },
      "source": [
        "#Gerar dois sets de valores distintos\n",
        "np.random.seed(10)\n",
        "x1 = np.arange(10)\n",
        "y1 = np.random.normal(size = 10)\n",
        "\n",
        "x2 = np.arange(10)\n",
        "y2 = 1/ np.exp(np.random.normal(size =10))\n",
        "\n",
        "#plotar os 2 gráficos \n",
        "fig, ax = plt.subplots(nrows = 1, ncols = 2, figsize = (8, 3))\n",
        "\n",
        "#Gráfico 1\n",
        "ax[0].plot(x1, y1)\n",
        "ax[0].set_title(\"Gráfico 1\")\n",
        "ax[0].set_xlabel(\"X1\")\n",
        "ax[0].set_ylabel(\"Y1\")\n",
        "\n",
        "\n",
        "#Gráfico 2\n",
        "ax[1].plot(x2, y2)\n",
        "ax[1].set_title(\"Gráfico 2\")\n",
        "ax[1].set_xlabel(\"X2\")\n",
        "ax[1].set_ylabel(\"Y2\")\n",
        "\n",
        "fig.tight_layout();"
      ],
      "execution_count": 2,
      "outputs": [
        {
          "output_type": "error",
          "ename": "NameError",
          "evalue": "ignored",
          "traceback": [
            "\u001b[0;31m---------------------------------------------------------------------------\u001b[0m",
            "\u001b[0;31mNameError\u001b[0m                                 Traceback (most recent call last)",
            "\u001b[0;32m<ipython-input-2-56ef62d927b9>\u001b[0m in \u001b[0;36m<module>\u001b[0;34m()\u001b[0m\n\u001b[0;32m----> 1\u001b[0;31m \u001b[0mnp\u001b[0m\u001b[0;34m.\u001b[0m\u001b[0mrandom\u001b[0m\u001b[0;34m.\u001b[0m\u001b[0mseed\u001b[0m\u001b[0;34m(\u001b[0m\u001b[0;36m10\u001b[0m\u001b[0;34m)\u001b[0m\u001b[0;34m\u001b[0m\u001b[0;34m\u001b[0m\u001b[0m\n\u001b[0m\u001b[1;32m      2\u001b[0m \u001b[0mx1\u001b[0m \u001b[0;34m=\u001b[0m \u001b[0mnp\u001b[0m\u001b[0;34m.\u001b[0m\u001b[0marange\u001b[0m\u001b[0;34m(\u001b[0m\u001b[0;36m10\u001b[0m\u001b[0;34m)\u001b[0m\u001b[0;34m\u001b[0m\u001b[0;34m\u001b[0m\u001b[0m\n\u001b[1;32m      3\u001b[0m \u001b[0my1\u001b[0m \u001b[0;34m=\u001b[0m \u001b[0mnp\u001b[0m\u001b[0;34m.\u001b[0m\u001b[0mrandom\u001b[0m\u001b[0;34m.\u001b[0m\u001b[0mnormal\u001b[0m\u001b[0;34m(\u001b[0m\u001b[0msize\u001b[0m \u001b[0;34m=\u001b[0m \u001b[0;36m10\u001b[0m\u001b[0;34m)\u001b[0m\u001b[0;34m\u001b[0m\u001b[0;34m\u001b[0m\u001b[0m\n\u001b[1;32m      4\u001b[0m \u001b[0;34m\u001b[0m\u001b[0m\n\u001b[1;32m      5\u001b[0m \u001b[0mx2\u001b[0m \u001b[0;34m=\u001b[0m \u001b[0mnp\u001b[0m\u001b[0;34m.\u001b[0m\u001b[0marange\u001b[0m\u001b[0;34m(\u001b[0m\u001b[0;36m10\u001b[0m\u001b[0;34m)\u001b[0m\u001b[0;34m\u001b[0m\u001b[0;34m\u001b[0m\u001b[0m\n",
            "\u001b[0;31mNameError\u001b[0m: name 'np' is not defined"
          ]
        }
      ]
    },
    {
      "cell_type": "markdown",
      "metadata": {
        "id": "9iBMiXLI_50Z",
        "colab_type": "text"
      },
      "source": [
        "#Gráficos de linhas"
      ]
    },
    {
      "cell_type": "code",
      "metadata": {
        "id": "GsdSYjkCK-Ae",
        "colab_type": "code",
        "colab": {}
      },
      "source": [
        "#importtar bibliotecas\n",
        "import pandas as pd\n",
        "import matplotlib.pyplot as plt\n",
        "import numpy as np\n",
        "\n",
        "#importar dados para Dataframe\n",
        "\n",
        "data = \"https://raw.githubusercontent.com/carlosfab/curso_data_science_na_pratica/master/modulo_03/dengue-dataset.csv\"\n",
        "\n",
        "df = pd.read_csv(data, index_col=\"data\", parse_dates=True)\n",
        "\n",
        "#ver as 5 primeiras entradas\n",
        "df.head()\n"
      ],
      "execution_count": 0,
      "outputs": []
    },
    {
      "cell_type": "code",
      "metadata": {
        "id": "-qWukePt9_N0",
        "colab_type": "code",
        "colab": {}
      },
      "source": [
        "#plotar número de casos confirmados \n",
        "\n",
        "fig, ax = plt.subplots()\n",
        "\n",
        "df[\"casos-confirmados\"].plot(kind=\"line\", ax=ax)\n",
        "ax.set_title(\"DENGUE EM CAMPINAS\")\n",
        "ax.set_xlabel(\"DATA\")\n",
        "ax.set_ylabel(\"CASOS CONFIRMADOS\")\n",
        "\n",
        "plt.tight_layout();"
      ],
      "execution_count": 0,
      "outputs": []
    },
    {
      "cell_type": "markdown",
      "metadata": {
        "id": "0f6MfvGUA42a",
        "colab_type": "text"
      },
      "source": [
        "#####Selecionar intervalos"
      ]
    },
    {
      "cell_type": "code",
      "metadata": {
        "id": "f9tfatkYEDy4",
        "colab_type": "code",
        "colab": {}
      },
      "source": [
        "#plotar o histograma da temperatura \n",
        "fig, ax=plt.subplots()\n",
        "\n",
        "df.loc[\"2011-01-01\":\"2013-12-31\", \"temperatura-media\"].plot(kind='line', ax=ax)\n",
        "ax.set_title(\"Gráfico de Temperautra Média\")\n",
        "ax.set_xlabel(\"Data\")\n",
        "ax.set_ylabel(\"Temperatura Média\")\n",
        "\n",
        "plt.tight_layout();\n"
      ],
      "execution_count": 0,
      "outputs": []
    },
    {
      "cell_type": "markdown",
      "metadata": {
        "id": "xNzFwQmJGmPl",
        "colab_type": "text"
      },
      "source": [
        "#####Plotar multiplos gráficos separadamente"
      ]
    },
    {
      "cell_type": "code",
      "metadata": {
        "id": "xt8U43s7HU9Z",
        "colab_type": "code",
        "colab": {}
      },
      "source": [
        "#plotar o histograma da temperatura média\n",
        "fig, (ax1, ax2)=plt.subplots(nrows=2, ncols=1, figsize=(10,4))\n",
        "\n",
        "#plotar temperatura média\n",
        "df.loc[\"2011-01-01\":\"2013-12-31\",\"temperatura-media\"].plot(kind='line', ax=ax1)\n",
        "ax1.set_title('GRÁFICO DE TEMPERATURA MÉDIA')\n",
        "ax1.set_xlabel('DATA')\n",
        "ax1.set_ylabel(\"TEMPERATURA\")\n",
        "\n",
        "#plotar casos confirmados\n",
        "df.loc[\"2011-01-01\":\"2013-12-31\",\"casos-confirmados\"].plot(kind='line', ax=ax2)\n",
        "ax2.set_title(\"GRÁFICO DE CASOS CONFIRMADOS\")\n",
        "ax2.set_xlabel(\"DATA\")\n",
        "ax2.set_ylabel(\"CAOS CONFIRMADOS\")\n",
        "\n",
        "\n",
        "plt.tight_layout();\n",
        "\n"
      ],
      "execution_count": 0,
      "outputs": []
    },
    {
      "cell_type": "markdown",
      "metadata": {
        "id": "CEOyCzu9JOBP",
        "colab_type": "text"
      },
      "source": [
        "######Plotar múltiplos gráficos sobrepostos"
      ]
    },
    {
      "cell_type": "code",
      "metadata": {
        "id": "BYUAdTtdLF18",
        "colab_type": "code",
        "colab": {}
      },
      "source": [
        "#plotar gráficos normalizados\n",
        "df_norm = (df - df.mean()) / df.std()\n",
        "\n",
        "fig, ax = plt.subplots(figsize=(8,4))\n",
        "\n",
        "#plotar temperatura média\n",
        "df_norm.loc[\"2011-01-01\":\"2013-12-31\",\"temperatura-media\"].plot(kind='line', ax=ax)\n",
        "\n",
        "#plotar casos confirmados \n",
        "df_norm.loc[\"2011-01-01\":\"2013-12-31\",\"casos-confirmados\"].plot(kind='line', ax=ax)\n",
        "\n",
        "ax.set_title(\"GRÁFICO DE TEMPERATURA MÉDIA X CASOS CONFIRMADOS\")\n",
        "ax.set_xlabel(\"DATA\")\n",
        "\n",
        "plt.tight_layout();"
      ],
      "execution_count": 0,
      "outputs": []
    },
    {
      "cell_type": "markdown",
      "metadata": {
        "id": "xFBcq4ltLuOf",
        "colab_type": "text"
      },
      "source": [
        "#Gráfico histograma\n"
      ]
    },
    {
      "cell_type": "code",
      "metadata": {
        "id": "szmy83Z2gtX5",
        "colab_type": "code",
        "colab": {}
      },
      "source": [
        "#importar bibliotecas\n",
        "import pandas as pd\n",
        "import matplotlib.pyplot as plt\n",
        "\n",
        "#importar dados para o dataframe\n",
        "data = \"https://raw.githubusercontent.com/carlosfab/curso_data_science_na_pratica/master/modulo_03/dengue-dataset.csv\"\n",
        "\n",
        "df = pd.read_csv(data, index_col=\"data\", parse_dates = True)\n",
        "\n",
        "df.head()"
      ],
      "execution_count": 0,
      "outputs": []
    },
    {
      "cell_type": "code",
      "metadata": {
        "id": "Mep_KhVL-_yJ",
        "colab_type": "code",
        "colab": {}
      },
      "source": [
        "#plotar o histograma da temperatura média (valores absolutos)\n",
        "\n",
        "fig, ax = plt.subplots()\n",
        "\n",
        "df[\"temperatura-media\"].plot(kind=\"hist\", ax=ax)\n",
        "ax.set_title(\"Histograma da Temperatura Média\")\n",
        "ax.set_ylabel(\"Quantidade de ocorrências\")\n",
        "ax.set_xlabel(\"Tempertura\")\n",
        "\n",
        "plt.tight_layout();\n"
      ],
      "execution_count": 0,
      "outputs": []
    },
    {
      "cell_type": "code",
      "metadata": {
        "id": "oXUJaveS_m4a",
        "colab_type": "code",
        "colab": {}
      },
      "source": [
        "#plotar o histograma da temperatura média (frequência relativa)\n",
        "\n",
        "fig, ax = plt.subplots()\n",
        "\n",
        "df[\"temperatura-media\"].plot(kind=\"hist\", ax=ax, density=True)\n",
        "ax.set_title(\"Histograma da Temperatura Média\")\n",
        "ax.set_ylabel(\"Quantidade de ocorrências\")\n",
        "ax.set_xlabel(\"Tempertura\")\n",
        "\n",
        "plt.tight_layout();\n"
      ],
      "execution_count": 0,
      "outputs": []
    },
    {
      "cell_type": "code",
      "metadata": {
        "id": "ojR85UwFCCJp",
        "colab_type": "code",
        "colab": {}
      },
      "source": [
        "#plotar o histograma da temperatura média (frequência relativa - porcentagem)\n",
        "\n",
        "fig, ax = plt.subplots()\n",
        "\n",
        "df[\"temperatura-media\"].plot(kind=\"hist\", ax=ax, density=True, bins=40)\n",
        "ax.set_title(\"Histograma da Temperatura Média\")\n",
        "ax.set_ylabel(\"Quantidade de ocorrências\")\n",
        "ax.set_xlabel(\"Tempertura\")\n",
        "\n",
        "plt.tight_layout();"
      ],
      "execution_count": 0,
      "outputs": []
    },
    {
      "cell_type": "code",
      "metadata": {
        "id": "sTGPPaSiCXxZ",
        "colab_type": "code",
        "colab": {}
      },
      "source": [
        "#alinhando os tickers do eixo x com o início/final de cada barra\n",
        "import numpy as np\n",
        "\n",
        "count, bin_edges = np.histogram(df[\"temperatura-media\"])\n",
        "\n",
        "#plotar o histograma da temperatura média\n",
        "\n",
        "fig, ax = plt.subplots()\n",
        "\n",
        "df[\"temperatura-media\"].plot(kind = \"hist\", ax=ax, xticks = bin_edges, density = True, bins = 40)\n",
        "\n",
        "ax.set_title(\"Histogrma da Temperatura Média\")\n",
        "ax.set_ylabel(\"Quantidade de ocorrências\")\n",
        "ax.set_xlabel(\"Temperatura\")\n",
        "\n",
        "plt.tight_layout();\n"
      ],
      "execution_count": 0,
      "outputs": []
    },
    {
      "cell_type": "code",
      "metadata": {
        "id": "JAVcKIeHedKs",
        "colab_type": "code",
        "colab": {}
      },
      "source": [
        "#Visualisar os valores do histograma\n",
        "bin_edges"
      ],
      "execution_count": 0,
      "outputs": []
    },
    {
      "cell_type": "markdown",
      "metadata": {
        "id": "QYsMdtKod2ff",
        "colab_type": "text"
      },
      "source": [
        "#Gráfico de Barras\n"
      ]
    },
    {
      "cell_type": "code",
      "metadata": {
        "id": "SxDSgoVOerpH",
        "colab_type": "code",
        "colab": {}
      },
      "source": [
        "#importando bibliotecas\n",
        "import pandas as pd\n",
        "import matplotlib.pyplot as plt\n",
        "\n",
        "data = \"https://raw.githubusercontent.com/carlosfab/curso_data_science_na_pratica/master/modulo_03/entrada_passageiro_linha1.csv\"\n",
        "\n",
        "df = pd.read_csv(data)\n",
        "\n",
        "#apagar linha total\n",
        "\n",
        "df.drop(index=23, axis=0, inplace=True)\n",
        "\n",
        "#ver 5 primeiras entradas\n",
        "df.head()"
      ],
      "execution_count": 0,
      "outputs": []
    },
    {
      "cell_type": "code",
      "metadata": {
        "id": "Z8Z9nrSPfegu",
        "colab_type": "code",
        "colab": {}
      },
      "source": [
        "#plotar o gráfico de barras com a entrada média de passageiros \n",
        "\n",
        "fig, ax = plt.subplots(figsize = (8,5))\n",
        "\n",
        "#df[\"Entradas\"].plot(kind = \"bar\", ax = ax) #pode ser feito desta maneira também\n",
        "df.plot(kind= \"bar\", x =\"Estação\", y= \"Entradas\", ax = ax)\n",
        "ax.set_title(\"Entrada Média de Passageiros na Linha 1 - Dezembro 2018\")\n",
        "ax.set_xlabel(\"Estação\")\n",
        "ax.set_ylabel(\"Entradas\")\n",
        "plt.tight_layout();\n",
        "\n",
        "\n"
      ],
      "execution_count": 0,
      "outputs": []
    },
    {
      "cell_type": "markdown",
      "metadata": {
        "id": "q9XgavX4iYs2",
        "colab_type": "text"
      },
      "source": [
        "#Gráfico de Pizza"
      ]
    },
    {
      "cell_type": "code",
      "metadata": {
        "id": "reSlcf0rjoCj",
        "colab_type": "code",
        "colab": {}
      },
      "source": [
        "#importar bibliotacas\n",
        "import pandas as pd\n",
        "import matplotlib.pyplot as plt\n",
        "\n",
        "#importar arquivp csv\n",
        "\n",
        "data = \"https://raw.githubusercontent.com/carlosfab/curso_data_science_na_pratica/master/modulo_02/ocorrencias_aviacao.csv\"\n",
        "\n",
        "df = pd.read_csv(data, index_col = \"codigo_ocorrencia\")\n",
        "\n",
        "df.head()\n",
        "\n",
        "\n",
        "\n",
        "\n"
      ],
      "execution_count": 0,
      "outputs": []
    },
    {
      "cell_type": "code",
      "metadata": {
        "id": "unvK5jP5m4UO",
        "colab_type": "code",
        "colab": {}
      },
      "source": [
        "df.ocorrencia_classificacao.unique()"
      ],
      "execution_count": 0,
      "outputs": []
    },
    {
      "cell_type": "code",
      "metadata": {
        "id": "KKzkJzRcnLCp",
        "colab_type": "code",
        "colab": {}
      },
      "source": [
        "df.ocorrencia_classificacao.value_counts()"
      ],
      "execution_count": 0,
      "outputs": []
    },
    {
      "cell_type": "code",
      "metadata": {
        "id": "a8D-N-b6nUEW",
        "colab_type": "code",
        "colab": {}
      },
      "source": [
        "#transformar em um dicionario\n",
        "dict(df.ocorrencia_classificacao.value_counts())"
      ],
      "execution_count": 0,
      "outputs": []
    },
    {
      "cell_type": "code",
      "metadata": {
        "id": "MgdrZnM8nh_e",
        "colab_type": "code",
        "colab": {}
      },
      "source": [
        "#extrair as ocorrências patra um \n",
        "ocorrencia_classificacao = dict(df.ocorrencia_classificacao.value_counts())\n",
        "labels = ocorrencia_classificacao.keys()\n",
        "sizes = ocorrencia_classificacao.values()\n",
        "explode = (0.1, 0, 0)\n",
        "\n",
        "#preparar dados para o pie chart\n",
        "fig, ax = plt.subplots(figsize=(6,6))\n",
        "ax.pie(sizes, labels = labels, explode = explode, shadow = True)\n",
        "\n",
        "\n",
        "plt.tight_layout();\n"
      ],
      "execution_count": 0,
      "outputs": []
    },
    {
      "cell_type": "markdown",
      "metadata": {
        "id": "yYTlfooBodHj",
        "colab_type": "text"
      },
      "source": [
        "#Gráfico de Área (stacked area chart)\n"
      ]
    },
    {
      "cell_type": "code",
      "metadata": {
        "id": "CatU3dQ7pazT",
        "colab_type": "code",
        "colab": {}
      },
      "source": [
        "#importar bibliotecas\n",
        "import pandas as pd\n",
        "import matplotlib.pyplot as plt\n",
        "\n",
        "#importar dados para o dataframe\n",
        "data = \"https://raw.githubusercontent.com/carlosfab/curso_data_science_na_pratica/master/modulo_03/dengue-dataset.csv\" \n",
        "df = pd.read_csv(data, index_col = \"data\", parse_dates = True) \n",
        "\n",
        "#ver 5 primeiras entradas\n",
        "df.head()"
      ],
      "execution_count": 0,
      "outputs": []
    },
    {
      "cell_type": "code",
      "metadata": {
        "id": "6SOVIpkbqOqA",
        "colab_type": "code",
        "colab": {}
      },
      "source": [
        "#plotar o gráfico de barras com a entrada média de passageiros \n",
        "fig, ax = plt.subplots(figsize = (10,6)) \n",
        "\n",
        "df.loc[\"1999-01-01\":\"2011-01-01\",[\"temperatura-mininima\",\"temperatura-media\",'temperatura-maxima']].plot.area(ax=ax, alpha = 0.4)\n",
        "\n",
        "plt.tight_layout();"
      ],
      "execution_count": 0,
      "outputs": []
    },
    {
      "cell_type": "markdown",
      "metadata": {
        "id": "7aBjFzbd3Tnw",
        "colab_type": "text"
      },
      "source": [
        "#Gráfico de Dispersão ( Scattter plot )"
      ]
    },
    {
      "cell_type": "code",
      "metadata": {
        "id": "lqIT7gWn35rG",
        "colab_type": "code",
        "colab": {}
      },
      "source": [
        "#importar bibliotecas\n",
        "import pandas as pd\n",
        "import matplotlib.pyplot as plt\n",
        "\n",
        "#importar o dataset\n",
        "\n",
        "df = pd.read_csv(\"https://raw.githubusercontent.com/carlosfab/data_science/master/datasets/housing.csv\")\n",
        "df.head()\n"
      ],
      "execution_count": 0,
      "outputs": []
    },
    {
      "cell_type": "code",
      "metadata": {
        "id": "ale8vI94S093",
        "colab_type": "code",
        "colab": {}
      },
      "source": [
        "#plotar o scatter plot\n",
        "fig, ax = plt.subplots(figsize=(10,6))\n",
        "df.plot.scatter(x = \"median_income\", y = \"median_house_value\", ax=ax, s=1, alpha=0.4)\n",
        "\n",
        "plt.tight_layout();"
      ],
      "execution_count": 0,
      "outputs": []
    },
    {
      "cell_type": "code",
      "metadata": {
        "id": "lgtPzcDkTcZr",
        "colab_type": "code",
        "colab": {}
      },
      "source": [
        "#importar seaborn\n",
        "import seaborn as sns\n",
        "\n",
        "#plotar scatter plot e regressão linear\n",
        "fig, ax = plt.subplots()\n",
        "\n",
        "ax.set_xlim(right=8)\n",
        "sns.regplot(\"median_income\", \"median_house_value\", scatter_kws = {\"s\": 0.2},\n",
        "            line_kws = {\"color\" : \"red\"}, data = df, ax=ax) \n",
        "\n",
        "plt.tight_layout();"
      ],
      "execution_count": 0,
      "outputs": []
    },
    {
      "cell_type": "markdown",
      "metadata": {
        "id": "oz_sMUcgZYO2",
        "colab_type": "text"
      },
      "source": [
        "#Gráfico de caixa (Boxplot)"
      ]
    },
    {
      "cell_type": "code",
      "metadata": {
        "id": "YDJcM4VIajGB",
        "colab_type": "code",
        "colab": {}
      },
      "source": [
        "#importando bibliotecas\n",
        "import pandas as pd\n",
        "import matplotlib.pyplot as plt\n",
        "\n",
        "data = \"https://raw.githubusercontent.com/carlosfab/curso_data_science_na_pratica/master/modulo_03/dengue-dataset.csv\"\n",
        "\n",
        "df = pd.read_csv(data, index_col=\"data\", parse_dates=True)\n",
        "\n",
        "df.head()\n"
      ],
      "execution_count": 0,
      "outputs": []
    },
    {
      "cell_type": "code",
      "metadata": {
        "id": "cyrSyIM-d-lz",
        "colab_type": "code",
        "colab": {}
      },
      "source": [
        "#Plotando o BoxPlot\n",
        "fig, ax = plt.subplots()\n",
        "\n",
        "df.boxplot([\"temperatura-media\", \"temperatura-mininima\", \"temperatura-maxima\"], ax=ax)\n",
        "ax.set_title(\"COMPARATIVO ENTRE TEMPERATURAS\")\n",
        "\n",
        "plt.tight_layout();"
      ],
      "execution_count": 0,
      "outputs": []
    },
    {
      "cell_type": "code",
      "metadata": {
        "id": "Min5E4sKhHm1",
        "colab_type": "code",
        "colab": {}
      },
      "source": [
        "#Plotando BoxPLot com valores arbitrários para casos confirmados\n",
        "\n",
        "fig, ax=plt.subplots()\n",
        "df.loc[df[\"casos-confirmados\"] < 150].boxplot([\"casos-confirmados\"], vert=False, ax=ax)\n",
        "\n",
        "plt.tight_layout();"
      ],
      "execution_count": 0,
      "outputs": []
    },
    {
      "cell_type": "markdown",
      "metadata": {
        "id": "YREihLJnAKU8",
        "colab_type": "text"
      },
      "source": [
        ""
      ]
    },
    {
      "cell_type": "markdown",
      "metadata": {
        "id": "NnW7yJ2sAKa9",
        "colab_type": "text"
      },
      "source": [
        "#Gráfico de Waffle"
      ]
    },
    {
      "cell_type": "code",
      "metadata": {
        "id": "nMZjJPO-AN0A",
        "colab_type": "code",
        "colab": {}
      },
      "source": [
        "#instalar o pywaffle\n",
        "!pip install pywaffle -q\n",
        "\n",
        "#importar bibliotecas\n",
        "import pandas as pd\n",
        "import matplotlib.pyplot as plt\n",
        "from pywaffle import Waffle\n",
        "#exemplo de Wafllle\n",
        "\n",
        "fig=plt.figure(\n",
        "    FigureClass=Waffle,\n",
        "    rows=4,\n",
        "    columns=10,\n",
        "    values={'bolacha':33,\n",
        "            \"biscoito\":48,\n",
        "            \"salgadinho\":19},\n",
        "            legend={\"loc\":\"upper left\",\n",
        "            \"bbox_to_anchor\":(1.1, 1)})\n",
        "\n",
        "fig.set_tight_layout(False)\n",
        "plt.show()\n"
      ],
      "execution_count": 0,
      "outputs": []
    },
    {
      "cell_type": "code",
      "metadata": {
        "id": "SGBvUzEiBI_p",
        "colab_type": "code",
        "colab": {}
      },
      "source": [
        "#importar bibliotecas\n",
        "import pandas as pd\n",
        "\n",
        "#importar dados do cenipa\n",
        "df=pd.read_csv(\"https://raw.githubusercontent.com/carlosfab/curso_data_science_na_pratica/master/modulo_02/ocorrencias_aviacao.csv\")\n",
        "\n",
        "#extrair value counts da variável ocorrencia_classificação\n",
        "data = df.ocorrencia_classificacao.value_counts().to_dict()\n",
        "\n",
        "#plotar o gráfico de waffle\n",
        "fig=plt.figure(\n",
        "              FigureClass=Waffle,\n",
        "              rows=5,\n",
        "              columns=15,\n",
        "              colors=(\"#232066\", \"#983D3D\", \"#DCB732\"),\n",
        "              values=data, icons=\"plane\", icon_size=12,\n",
        "              legend={\"loc\":\"upper left\", \"bbox_to_anchor\": (1,1)},\n",
        "              icon_legend=True\n",
        "              )\n",
        "\n",
        "fig.set_tight_layout(False)\n",
        "plt.show()\n",
        "               \n",
        "#Documentação\n",
        "#https://github.com/gyli/PyWaffle"
      ],
      "execution_count": 0,
      "outputs": []
    },
    {
      "cell_type": "markdown",
      "metadata": {
        "id": "-1npr0m47TAw",
        "colab_type": "text"
      },
      "source": [
        "#Biblioteca Seaborn"
      ]
    },
    {
      "cell_type": "code",
      "metadata": {
        "id": "CMZWoeL17WWV",
        "colab_type": "code",
        "colab": {
          "base_uri": "https://localhost:8080/",
          "height": 347
        },
        "outputId": "2d743668-f495-4159-a3f0-08f8c4952eb3"
      },
      "source": [
        "#importar a blibioteca Seaborn, o étodo sns.set() traz o layout do seaborn para o matplotli\n",
        "import numpy as np\n",
        "import matplotlib.pyplot as plt\n",
        "import seaborn as sns\n",
        "sns.set()\n",
        "\n",
        "# gerar dados aleatórios\n",
        "x = np.arange(100)\n",
        "y = np.random.random_integers(-50, 50, 100)\n",
        "\n",
        "\n",
        "# plotar o gráfico com MATPLOTLIB usando estilo do Seaborn\n",
        "fig, ax = plt.subplots(figsize=(8,4))\n",
        "ax.plot(x, y)\n",
        "\n",
        "plt.tight_layout();"
      ],
      "execution_count": 17,
      "outputs": [
        {
          "output_type": "stream",
          "text": [
            "/usr/local/lib/python3.6/dist-packages/ipykernel_launcher.py:8: DeprecationWarning: This function is deprecated. Please call randint(-50, 50 + 1) instead\n",
            "  \n"
          ],
          "name": "stderr"
        },
        {
          "output_type": "display_data",
          "data": {
            "image/png": "[encoded data removed]",
            "text/plain": [
              "<Figure size 576x288 with 1 Axes>"
            ]
          },
          "metadata": {
            "tags": []
          }
        }
      ]
    },
    {
      "cell_type": "code",
      "metadata": {
        "id": "BU5QUTER7ulV",
        "colab_type": "code",
        "colab": {
          "base_uri": "https://localhost:8080/",
          "height": 437
        },
        "outputId": "44742cdf-34e5-4744-fcb5-19409c100fbc"
      },
      "source": [
        "# JOINT PLOT\n",
        "sns.jointplot(x, y, kind='kde')\n",
        "plt.show()"
      ],
      "execution_count": 18,
      "outputs": [
        {
          "output_type": "display_data",
          "data": {
            "image/png": "[encoded data removed]",
            "text/plain": [
              "<Figure size 432x432 with 3 Axes>"
            ]
          },
          "metadata": {
            "tags": []
          }
        }
      ]
    },
    {
      "cell_type": "code",
      "metadata": {
        "id": "DIrTKxpP8Vlk",
        "colab_type": "code",
        "colab": {
          "base_uri": "https://localhost:8080/",
          "height": 268
        },
        "outputId": "2e313ce1-8d3f-4b00-da80-2ca8e253f0ed"
      },
      "source": [
        "# DATA + REGRESSÃO LINEAR\n",
        "\n",
        "# gerar dados aleatórios\n",
        "a = np.arange(100)\n",
        "b = 3 * a + 14 + np.random.normal(0, 40, len(a))\n",
        "\n",
        "sns.regplot(a, b, color=\"black\")\n",
        "plt.show()"
      ],
      "execution_count": 20,
      "outputs": [
        {
          "output_type": "display_data",
          "data": {
            "image/png": "[encoded data removed]",
            "text/plain": [
              "<Figure size 432x288 with 1 Axes>"
            ]
          },
          "metadata": {
            "tags": []
          }
        }
      ]
    },
    {
      "cell_type": "code",
      "metadata": {
        "id": "o2ZrA5vn8sqz",
        "colab_type": "code",
        "colab": {
          "base_uri": "https://localhost:8080/",
          "height": 307
        },
        "outputId": "8ee40e9d-1c38-4653-fea8-a775d64c1f5d"
      },
      "source": [
        "# HEATMAP\n",
        "\n",
        "# importar dataset da UCI\n",
        "import pandas as pd\n",
        "dataset_uci = \"https://raw.githubusercontent.com/carlosfab/curso_data_science_na_pratica/master/modulo_03/heart-disease-uci.csv\"\n",
        "df_heart = pd.read_csv(dataset_uci)\n",
        "\n",
        "# heatmap (mapa de calor)\n",
        "sns.heatmap(df_heart.corr())\n",
        "plt.show()"
      ],
      "execution_count": 21,
      "outputs": [
        {
          "output_type": "display_data",
          "data": {
            "image/png": "[encoded data removed]",
            "text/plain": [
              "<Figure size 432x288 with 2 Axes>"
            ]
          },
          "metadata": {
            "tags": []
          }
        }
      ]
    },
    {
      "cell_type": "code",
      "metadata": {
        "id": "E07u2qua82y3",
        "colab_type": "code",
        "colab": {
          "base_uri": "https://localhost:8080/",
          "height": 289
        },
        "outputId": "88bed8cd-abf6-40e6-eab3-6025da26ad04"
      },
      "source": [
        "# COUNTPLOT\n",
        "\n",
        "# importar dados do CENIPA\n",
        "df_cenipa = pd.read_csv(\"https://raw.githubusercontent.com/carlosfab/curso_data_science_na_pratica/master/modulo_02/ocorrencias_aviacao.csv\")\n",
        "\n",
        "sns.countplot(df_cenipa[\"ocorrencia_classificacao\"])\n",
        "plt.show()"
      ],
      "execution_count": 22,
      "outputs": [
        {
          "output_type": "display_data",
          "data": {
            "image/png": "[encoded data removed]",
            "text/plain": [
              "<Figure size 432x288 with 1 Axes>"
            ]
          },
          "metadata": {
            "tags": []
          }
        }
      ]
    },
    {
      "cell_type": "code",
      "metadata": {
        "id": "MyK8_I3O86RG",
        "colab_type": "code",
        "colab": {}
      },
      "source": [
        ""
      ],
      "execution_count": 0,
      "outputs": []
    }
  ]
}